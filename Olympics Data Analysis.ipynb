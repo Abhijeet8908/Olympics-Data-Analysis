{
 "cells": [
  {
   "cell_type": "markdown",
   "metadata": {
    "application/vnd.databricks.v1+cell": {
     "cellMetadata": {},
     "inputWidgets": {},
     "nuid": "8f45a7e5-6c25-47cd-be1a-8c24cd9232d4",
     "showTitle": false,
     "title": ""
    }
   },
   "source": [
    "### **Objective of the Project:**\n",
    "\n",
    "• To read the olympix_data.csv file into PySpark as a dataframe.\n",
    "\n",
    "• To find out the number Sports included in Olympic.\n",
    "\n",
    "• To plot the total number of medals in each Olympic Sport and sort in descending order based on the total no. of medals.\n",
    "\n",
    "• To find the total number of medals won by each country in Swimming and Skelton.\n",
    "\n",
    "• To find the number of medals US won yearly.\n",
    "\n",
    "• To find out the total number of medals won by each country.\n",
    "\n",
    "• To check for the oldest athlete in the Olympics and country he\\she belongs."
   ]
  },
  {
   "cell_type": "code",
   "execution_count": 0,
   "metadata": {
    "application/vnd.databricks.v1+cell": {
     "cellMetadata": {
      "byteLimit": 2048000,
      "rowLimit": 10000
     },
     "inputWidgets": {},
     "nuid": "a3f03e9f-7eb0-4ca5-bfb4-d894d863ae55",
     "showTitle": false,
     "title": ""
    }
   },
   "outputs": [
    {
     "output_type": "stream",
     "name": "stdout",
     "output_type": "stream",
     "text": [
      "Python interpreter will be restarted.\nCollecting pyspark\n  Downloading pyspark-3.5.0.tar.gz (316.9 MB)\nCollecting py4j==0.10.9.7\n  Downloading py4j-0.10.9.7-py2.py3-none-any.whl (200 kB)\nBuilding wheels for collected packages: pyspark\n  Building wheel for pyspark (setup.py): started\n  Building wheel for pyspark (setup.py): finished with status 'done'\n  Created wheel for pyspark: filename=pyspark-3.5.0-py2.py3-none-any.whl size=317425366 sha256=28938ea6468066ee9173dc10d09212ab9eb8eca5d1ec70b3a9d3b11fe2ea68b1\n  Stored in directory: /root/.cache/pip/wheels/57/bd/14/ce9e21f2649298678d011fb8f71ed38ee70b42b94fef0be142\nSuccessfully built pyspark\nInstalling collected packages: py4j, pyspark\nSuccessfully installed py4j-0.10.9.7 pyspark-3.5.0\nPython interpreter will be restarted.\n"
     ]
    }
   ],
   "source": [
    "pip install pyspark"
   ]
  },
  {
   "cell_type": "code",
   "execution_count": 0,
   "metadata": {
    "application/vnd.databricks.v1+cell": {
     "cellMetadata": {
      "byteLimit": 2048000,
      "rowLimit": 10000
     },
     "inputWidgets": {},
     "nuid": "a3fee571-e000-40c4-a386-a0f8737f844d",
     "showTitle": false,
     "title": ""
    }
   },
   "outputs": [],
   "source": [
    "from pyspark import SparkContext, SparkConf\n",
    "from pyspark.sql import SparkSession\n",
    "from pyspark.sql import SQLContext\n",
    "from pyspark.sql.types import StructType, StructField, StringType, IntegerType\n",
    "\n",
    "spark = SparkSession.builder.appName('OlympicsData').getOrCreate()"
   ]
  },
  {
   "cell_type": "code",
   "execution_count": 0,
   "metadata": {
    "application/vnd.databricks.v1+cell": {
     "cellMetadata": {
      "byteLimit": 2048000,
      "rowLimit": 10000
     },
     "inputWidgets": {},
     "nuid": "77d83b74-09e4-425f-9cc5-82f6b06cf927",
     "showTitle": false,
     "title": ""
    }
   },
   "outputs": [],
   "source": [
    "schema = StructType([ \n",
    "    StructField('name', \n",
    "                StringType(), True), \n",
    "    StructField('age', \n",
    "                IntegerType(), True), \n",
    "    StructField('country', \n",
    "                StringType(), True), \n",
    "    StructField('year', \n",
    "                IntegerType(), True), \n",
    "    StructField('Date_Given', \n",
    "                StringType(), True),\n",
    "    StructField('sports', \n",
    "                StringType(), True),\n",
    "    StructField('gold_medal', \n",
    "                IntegerType(), True),\n",
    "    StructField('silver_medal', \n",
    "                IntegerType(), True),\n",
    "    StructField('brone_medal', \n",
    "                IntegerType(), True),\n",
    "    StructField('total_medal', \n",
    "                IntegerType(), True),\n",
    "]) "
   ]
  },
  {
   "cell_type": "markdown",
   "metadata": {
    "application/vnd.databricks.v1+cell": {
     "cellMetadata": {},
     "inputWidgets": {},
     "nuid": "2067fd89-43d2-46ed-b387-eae1149b99e1",
     "showTitle": false,
     "title": ""
    }
   },
   "source": [
    "To read the olympix_data.csv file into PySpark as a dataframe."
   ]
  },
  {
   "cell_type": "code",
   "execution_count": 0,
   "metadata": {
    "application/vnd.databricks.v1+cell": {
     "cellMetadata": {
      "byteLimit": 2048000,
      "rowLimit": 10000
     },
     "inputWidgets": {},
     "nuid": "7ed80efa-2030-41b2-a135-c94cab665892",
     "showTitle": false,
     "title": ""
    }
   },
   "outputs": [],
   "source": [
    "df = spark.read.format('csv').option('header',True).schema(schema).load('dbfs:/FileStore/tables/olympix_data_organized_with_header.csv')"
   ]
  },
  {
   "cell_type": "code",
   "execution_count": 0,
   "metadata": {
    "application/vnd.databricks.v1+cell": {
     "cellMetadata": {
      "byteLimit": 2048000,
      "rowLimit": 10000
     },
     "inputWidgets": {},
     "nuid": "807ca419-fed6-484a-a8e8-f60dab58c84b",
     "showTitle": false,
     "title": ""
    }
   },
   "outputs": [
    {
     "output_type": "stream",
     "name": "stdout",
     "output_type": "stream",
     "text": [
      "root\n |-- name: string (nullable = true)\n |-- age: integer (nullable = true)\n |-- country: string (nullable = true)\n |-- year: integer (nullable = true)\n |-- Date_Given: string (nullable = true)\n |-- sports: string (nullable = true)\n |-- gold_medal: integer (nullable = true)\n |-- silver_medal: integer (nullable = true)\n |-- brone_medal: integer (nullable = true)\n |-- total_medal: integer (nullable = true)\n\n"
     ]
    }
   ],
   "source": [
    "df.printSchema()"
   ]
  },
  {
   "cell_type": "code",
   "execution_count": 0,
   "metadata": {
    "application/vnd.databricks.v1+cell": {
     "cellMetadata": {
      "byteLimit": 2048000,
      "rowLimit": 10000
     },
     "inputWidgets": {},
     "nuid": "ef2089be-7062-4b16-8243-0d3f155b0d17",
     "showTitle": false,
     "title": ""
    }
   },
   "outputs": [
    {
     "output_type": "stream",
     "name": "stdout",
     "output_type": "stream",
     "text": [
      "+--------------------+---+-------------+----+----------+--------------------+----------+------------+-----------+-----------+\n|                name|age|      country|year|Date_Given|              sports|gold_medal|silver_medal|brone_medal|total_medal|\n+--------------------+---+-------------+----+----------+--------------------+----------+------------+-----------+-----------+\n|      Michael Phelps| 23|United States|2008| 8/24/2008|            Swimming|         8|           0|          0|          8|\n|      Michael Phelps| 19|United States|2004| 8/29/2004|            Swimming|         6|           0|          2|          8|\n|      Michael Phelps| 27|United States|2012|08-12-2012|            Swimming|         4|           2|          0|          6|\n|    Natalie Coughlin| 25|United States|2008| 8/24/2008|            Swimming|         1|           2|          3|          6|\n|       Aleksey Nemov| 24|       Russia|2000|10-01-2000|          Gymnastics|         2|           1|          3|          6|\n|       Alicia Coutts| 24|    Australia|2012|08-12-2012|            Swimming|         1|           3|          1|          5|\n|      Missy Franklin| 17|United States|2012|08-12-2012|            Swimming|         4|           0|          1|          5|\n|         Ryan Lochte| 27|United States|2012|08-12-2012|            Swimming|         2|           2|          1|          5|\n|     Allison Schmitt| 22|United States|2012|08-12-2012|            Swimming|         3|           1|          1|          5|\n|    Natalie Coughlin| 21|United States|2004| 8/29/2004|            Swimming|         2|           2|          1|          5|\n|          Ian Thorpe| 17|    Australia|2000|10-01-2000|            Swimming|         3|           2|          0|          5|\n|         Dara Torres| 33|United States|2000|10-01-2000|            Swimming|         2|           0|          3|          5|\n|       Cindy Klassen| 26|       Canada|2006| 2/26/2006|       Speed Skating|         1|           2|          2|          5|\n|       Nastia Liukin| 18|United States|2008| 8/24/2008|          Gymnastics|         1|           3|          1|          5|\n|       Marit Bjørgen| 29|       Norway|2010| 2/28/2010|Cross Country Skiing|         3|           1|          1|          5|\n|            Sun Yang| 20|        China|2012|08-12-2012|            Swimming|         2|           1|          1|          4|\n|     Kirsty Coventry| 24|     Zimbabwe|2008| 8/24/2008|            Swimming|         1|           3|          0|          4|\n|Libby Lenton-Tric...| 23|    Australia|2008| 8/24/2008|            Swimming|         2|           1|          1|          4|\n|         Ryan Lochte| 24|United States|2008| 8/24/2008|            Swimming|         2|           0|          2|          4|\n|      Inge de Bruijn| 30|  Netherlands|2004| 8/29/2004|            Swimming|         1|           1|          2|          4|\n+--------------------+---+-------------+----+----------+--------------------+----------+------------+-----------+-----------+\nonly showing top 20 rows\n\n"
     ]
    }
   ],
   "source": [
    "df = df.na.drop()\n",
    "df.show()"
   ]
  },
  {
   "cell_type": "markdown",
   "metadata": {
    "application/vnd.databricks.v1+cell": {
     "cellMetadata": {},
     "inputWidgets": {},
     "nuid": "64cd5678-14c6-40a8-adc8-14434d545102",
     "showTitle": false,
     "title": ""
    }
   },
   "source": [
    "To find out the number Sports included in Olympic."
   ]
  },
  {
   "cell_type": "code",
   "execution_count": 0,
   "metadata": {
    "application/vnd.databricks.v1+cell": {
     "cellMetadata": {
      "byteLimit": 2048000,
      "rowLimit": 10000
     },
     "inputWidgets": {},
     "nuid": "16a19a07-a31d-401c-9089-21fe68de26bf",
     "showTitle": false,
     "title": ""
    }
   },
   "outputs": [
    {
     "output_type": "stream",
     "name": "stdout",
     "output_type": "stream",
     "text": [
      "+--------------------+\n|              sports|\n+--------------------+\n|          Gymnastics|\n|              Tennis|\n|Short-Track Speed...|\n|              Rowing|\n|            Swimming|\n|       Alpine Skiing|\n|            Biathlon|\n|           Athletics|\n|          Equestrian|\n|            Shooting|\n|              Diving|\n|         Ski Jumping|\n|     Nordic Combined|\n|       Speed Skating|\n|        Table Tennis|\n|            Canoeing|\n|           Bobsleigh|\n|             Cycling|\n|Cross Country Skiing|\n|Synchronized Swim...|\n+--------------------+\nonly showing top 20 rows\n\n"
     ]
    }
   ],
   "source": [
    "distinct_sports_df = df.select('sports').distinct()\n",
    "\n",
    "distinct_sports_df.show()\n"
   ]
  },
  {
   "cell_type": "markdown",
   "metadata": {
    "application/vnd.databricks.v1+cell": {
     "cellMetadata": {},
     "inputWidgets": {},
     "nuid": "ee1c1f36-6fbe-4bff-94d6-62454ec8634b",
     "showTitle": false,
     "title": ""
    }
   },
   "source": [
    "To plot the total number of medals in each Olympic Sport and sort in descending order based on the total no. of medals."
   ]
  },
  {
   "cell_type": "code",
   "execution_count": 0,
   "metadata": {
    "application/vnd.databricks.v1+cell": {
     "cellMetadata": {
      "byteLimit": 2048000,
      "rowLimit": 10000
     },
     "inputWidgets": {},
     "nuid": "3f750b9f-58ea-47b9-af1a-aac311a076ed",
     "showTitle": false,
     "title": ""
    }
   },
   "outputs": [
    {
     "output_type": "display_data",
     "data": {
      "text/html": [
       "<style scoped>\n",
       "  .table-result-container {\n",
       "    max-height: 300px;\n",
       "    overflow: auto;\n",
       "  }\n",
       "  table, th, td {\n",
       "    border: 1px solid black;\n",
       "    border-collapse: collapse;\n",
       "  }\n",
       "  th, td {\n",
       "    padding: 5px;\n",
       "  }\n",
       "  th {\n",
       "    text-align: left;\n",
       "  }\n",
       "</style><div class='table-result-container'><table class='table-result'><thead style='background-color: white'><tr><th>sports</th><th>sum(total_medal)</th></tr></thead><tbody><tr><td>Gymnastics</td><td>282</td></tr><tr><td>Tennis</td><td>78</td></tr><tr><td>Boxing</td><td>188</td></tr><tr><td>Short-Track Speed Skating</td><td>138</td></tr><tr><td>Ice Hockey</td><td>384</td></tr><tr><td>Rowing</td><td>576</td></tr><tr><td>Judo</td><td>224</td></tr><tr><td>Softball</td><td>134</td></tr><tr><td>Sailing</td><td>210</td></tr><tr><td>Swimming</td><td>765</td></tr><tr><td>Alpine Skiing</td><td>90</td></tr><tr><td>Basketball</td><td>287</td></tr><tr><td>Handball</td><td>351</td></tr><tr><td>Rhythmic Gymnastics</td><td>84</td></tr><tr><td>Biathlon</td><td>138</td></tr><tr><td>Triathlon</td><td>24</td></tr><tr><td>Badminton</td><td>96</td></tr><tr><td>Athletics</td><td>753</td></tr><tr><td>Figure Skating</td><td>54</td></tr><tr><td>Beach Volleyball</td><td>48</td></tr><tr><td>Equestrian</td><td>182</td></tr><tr><td>Shooting</td><td>192</td></tr><tr><td>Diving</td><td>144</td></tr><tr><td>Skeleton</td><td>18</td></tr><tr><td>Ski Jumping</td><td>54</td></tr><tr><td>Nordic Combined</td><td>54</td></tr><tr><td>Wrestling</td><td>245</td></tr><tr><td>Speed Skating</td><td>140</td></tr><tr><td>Table Tennis</td><td>84</td></tr><tr><td>Taekwondo</td><td>112</td></tr><tr><td>Canoeing</td><td>333</td></tr><tr><td>Weightlifting</td><td>180</td></tr><tr><td>Waterpolo</td><td>306</td></tr><tr><td>Baseball</td><td>216</td></tr><tr><td>Modern Pentathlon</td><td>24</td></tr><tr><td>Snowboarding</td><td>48</td></tr><tr><td>Bobsleigh</td><td>72</td></tr><tr><td>Cycling</td><td>306</td></tr><tr><td>Cross Country Skiing</td><td>174</td></tr><tr><td>Volleyball</td><td>278</td></tr><tr><td>Archery</td><td>96</td></tr><tr><td>Synchronized Swimming</td><td>129</td></tr><tr><td>Curling</td><td>82</td></tr><tr><td>Fencing</td><td>256</td></tr><tr><td>Hockey</td><td>386</td></tr><tr><td>Freestyle Skiing</td><td>42</td></tr><tr><td>Football</td><td>407</td></tr><tr><td>Luge</td><td>36</td></tr><tr><td>Trampoline</td><td>24</td></tr></tbody></table></div>"
      ]
     },
     "metadata": {
      "application/vnd.databricks.v1+output": {
       "addedWidgets": {},
       "aggData": [],
       "aggError": "",
       "aggOverflow": false,
       "aggSchema": [],
       "aggSeriesLimitReached": false,
       "aggType": "",
       "arguments": {},
       "columnCustomDisplayInfos": {},
       "data": [
        [
         "Gymnastics",
         282
        ],
        [
         "Tennis",
         78
        ],
        [
         "Boxing",
         188
        ],
        [
         "Short-Track Speed Skating",
         138
        ],
        [
         "Ice Hockey",
         384
        ],
        [
         "Rowing",
         576
        ],
        [
         "Judo",
         224
        ],
        [
         "Softball",
         134
        ],
        [
         "Sailing",
         210
        ],
        [
         "Swimming",
         765
        ],
        [
         "Alpine Skiing",
         90
        ],
        [
         "Basketball",
         287
        ],
        [
         "Handball",
         351
        ],
        [
         "Rhythmic Gymnastics",
         84
        ],
        [
         "Biathlon",
         138
        ],
        [
         "Triathlon",
         24
        ],
        [
         "Badminton",
         96
        ],
        [
         "Athletics",
         753
        ],
        [
         "Figure Skating",
         54
        ],
        [
         "Beach Volleyball",
         48
        ],
        [
         "Equestrian",
         182
        ],
        [
         "Shooting",
         192
        ],
        [
         "Diving",
         144
        ],
        [
         "Skeleton",
         18
        ],
        [
         "Ski Jumping",
         54
        ],
        [
         "Nordic Combined",
         54
        ],
        [
         "Wrestling",
         245
        ],
        [
         "Speed Skating",
         140
        ],
        [
         "Table Tennis",
         84
        ],
        [
         "Taekwondo",
         112
        ],
        [
         "Canoeing",
         333
        ],
        [
         "Weightlifting",
         180
        ],
        [
         "Waterpolo",
         306
        ],
        [
         "Baseball",
         216
        ],
        [
         "Modern Pentathlon",
         24
        ],
        [
         "Snowboarding",
         48
        ],
        [
         "Bobsleigh",
         72
        ],
        [
         "Cycling",
         306
        ],
        [
         "Cross Country Skiing",
         174
        ],
        [
         "Volleyball",
         278
        ],
        [
         "Archery",
         96
        ],
        [
         "Synchronized Swimming",
         129
        ],
        [
         "Curling",
         82
        ],
        [
         "Fencing",
         256
        ],
        [
         "Hockey",
         386
        ],
        [
         "Freestyle Skiing",
         42
        ],
        [
         "Football",
         407
        ],
        [
         "Luge",
         36
        ],
        [
         "Trampoline",
         24
        ]
       ],
       "datasetInfos": [],
       "dbfsResultPath": null,
       "isJsonSchema": true,
       "metadata": {},
       "overflow": false,
       "plotOptions": {
        "customPlotOptions": {},
        "displayType": "table",
        "pivotAggregation": null,
        "pivotColumns": null,
        "xColumns": null,
        "yColumns": null
       },
       "removedWidgets": [],
       "schema": [
        {
         "metadata": "{}",
         "name": "sports",
         "type": "\"string\""
        },
        {
         "metadata": "{}",
         "name": "sum(total_medal)",
         "type": "\"long\""
        }
       ],
       "type": "table"
      }
     },
     "output_type": "display_data"
    },
    {
     "output_type": "display_data",
     "data": {
      "text/plain": [
       "Databricks visualization. Run in Databricks to view."
      ]
     },
     "metadata": {
      "application/vnd.databricks.v1.subcommand+json": {
       "bindings": {},
       "collapsed": false,
       "command": "%python\n__backend_agg_display_orig = display\n__backend_agg_dfs = []\ndef __backend_agg_display_new(df):\n    __backend_agg_df_modules = [\"pandas.core.frame\", \"databricks.koalas.frame\", \"pyspark.sql.dataframe\", \"pyspark.pandas.frame\", \"pyspark.sql.connect.dataframe\"]\n    if (type(df).__module__ in __backend_agg_df_modules and type(df).__name__ == 'DataFrame') or isinstance(df, list):\n        __backend_agg_dfs.append(df)\n\ndisplay = __backend_agg_display_new\n\ndef __backend_agg_user_code_fn():\n    import base64\n    exec(base64.standard_b64decode(\"IyBUbyBwbG90IHRoZSB0b3RhbCBudW1iZXIgb2YgbWVkYWxzIGluIGVhY2ggT2x5bXBpYyBTcG9ydCBhbmQgc29ydCBpbiBkZXNjZW5kaW5nIG9yZGVyIGJhc2VkIG9uIHRoZSB0b3RhbCBuby4gb2YgbWVkYWxzLgoKZnJvbSBweXNwYXJrLnNxbC5mdW5jdGlvbnMgaW1wb3J0IHN1bQoKZGZfdG9fcGxvdCA9IGRmLmdyb3VwQnkoJ3Nwb3J0cycpLmFnZyhzdW0oJ3RvdGFsX21lZGFsJykpCgpkZl90b19wbG90LmRpc3BsYXkoKQ==\").decode())\n\ntry:\n    # run user code\n    __backend_agg_user_code_fn()\n\n    #reset display function\n    display = __backend_agg_display_orig\n\n    if len(__backend_agg_dfs) > 0:\n        # create a temp view\n        if type(__backend_agg_dfs[0]).__module__ == \"databricks.koalas.frame\":\n            # koalas dataframe\n            __backend_agg_dfs[0].to_spark().createOrReplaceTempView(\"DatabricksView85076c9\")\n        elif type(__backend_agg_dfs[0]).__module__ == \"pandas.core.frame\" or isinstance(__backend_agg_dfs[0], list):\n            # pandas dataframe\n            spark.createDataFrame(__backend_agg_dfs[0]).createOrReplaceTempView(\"DatabricksView85076c9\")\n        else:\n            __backend_agg_dfs[0].createOrReplaceTempView(\"DatabricksView85076c9\")\n        #run backend agg\n        display(spark.sql(\"\"\"WITH q AS (select * from DatabricksView85076c9) SELECT `sports`,`sum(total_medal)` FROM q\"\"\"))\n    else:\n        displayHTML(\"dataframe no longer exists. If you're using dataframe.display(), use display(dataframe) instead.\")\n\n\nfinally:\n    spark.sql(\"drop view if exists DatabricksView85076c9\")\n    display = __backend_agg_display_orig\n    del __backend_agg_display_new\n    del __backend_agg_display_orig\n    del __backend_agg_dfs\n    del __backend_agg_user_code_fn\n\n",
       "commandTitle": "Visualization 1",
       "commandType": "auto",
       "commandVersion": 0,
       "commentThread": [],
       "commentsVisible": false,
       "contentSha256Hex": null,
       "customPlotOptions": {
        "redashChart": [
         {
          "key": "type",
          "value": "CHART"
         },
         {
          "key": "options",
          "value": {
           "alignYAxesAtZero": true,
           "coefficient": 1,
           "columnConfigurationMap": {
            "x": {
             "column": "sports",
             "id": "column_653337f170"
            },
            "y": [
             {
              "column": "sum(total_medal)",
              "id": "column_653337f172"
             }
            ]
           },
           "dateTimeFormat": "DD/MM/YYYY HH:mm",
           "direction": {
            "type": "counterclockwise"
           },
           "error_y": {
            "type": "data",
            "visible": true
           },
           "globalSeriesType": "column",
           "isAggregationOn": false,
           "legend": {
            "traceorder": "normal"
           },
           "missingValuesAsZero": true,
           "numberFormat": "0,0[.]00000",
           "percentFormat": "0[.]00%",
           "series": {
            "error_y": {
             "type": "data",
             "visible": true
            },
            "stacking": null
           },
           "seriesOptions": {
            "sum(total_medal)": {
             "type": "column",
             "yAxis": 0
            }
           },
           "showDataLabels": false,
           "sizemode": "diameter",
           "sortX": true,
           "sortY": true,
           "swappedAxes": false,
           "textFormat": "",
           "useAggregationsUi": true,
           "valuesOptions": {},
           "version": 2,
           "xAxis": {
            "labels": {
             "enabled": true
            },
            "type": "-"
           },
           "yAxis": [
            {
             "type": "-"
            },
            {
             "opposite": true,
             "type": "-"
            }
           ]
          }
         }
        ]
       },
       "datasetPreviewNameToCmdIdMap": {},
       "diffDeletes": [],
       "diffInserts": [],
       "displayType": "redashChart",
       "error": null,
       "errorDetails": null,
       "errorSummary": null,
       "errorTraceType": null,
       "finishTime": 0,
       "globalVars": {},
       "guid": "",
       "height": "auto",
       "hideCommandCode": false,
       "hideCommandResult": false,
       "iPythonMetadata": null,
       "inputWidgets": {},
       "isLockedInExamMode": false,
       "latestUser": "a user",
       "latestUserId": null,
       "listResultMetadata": null,
       "metadata": {},
       "nuid": "ce6bb136-9346-4aa7-a3fe-8629d852bfbe",
       "origId": 0,
       "parentHierarchy": [],
       "pivotAggregation": null,
       "pivotColumns": null,
       "position": 13.0,
       "resultDbfsErrorMessage": null,
       "resultDbfsStatus": "INLINED_IN_TREE",
       "results": null,
       "showCommandTitle": false,
       "startTime": 0,
       "state": "input",
       "streamStates": {},
       "subcommandOptions": {
        "queryPlan": {
         "selects": [
          {
           "column": "sports",
           "type": "column"
          },
          {
           "column": "sum(total_medal)",
           "type": "column"
          }
         ]
        }
       },
       "submitTime": 0,
       "subtype": "tableResultSubCmd.visualization",
       "tableResultIndex": 0,
       "useConsistentColors": false,
       "version": "CommandV1",
       "width": "auto",
       "workflows": [],
       "xColumns": null,
       "yColumns": null
      }
     },
     "output_type": "display_data"
    }
   ],
   "source": [
    "from pyspark.sql.functions import sum\n",
    "\n",
    "df_to_plot = df.groupBy('sports').agg(sum('total_medal'))\n",
    "\n",
    "df_to_plot.display()"
   ]
  },
  {
   "cell_type": "markdown",
   "metadata": {
    "application/vnd.databricks.v1+cell": {
     "cellMetadata": {},
     "inputWidgets": {},
     "nuid": "1f36c2d7-d63a-4c7a-b23f-1ab860e22433",
     "showTitle": false,
     "title": ""
    }
   },
   "source": [
    "To find the total number of medals won by each country in Swimming and Skeleton."
   ]
  },
  {
   "cell_type": "code",
   "execution_count": 0,
   "metadata": {
    "application/vnd.databricks.v1+cell": {
     "cellMetadata": {
      "byteLimit": 2048000,
      "rowLimit": 10000
     },
     "inputWidgets": {},
     "nuid": "ed851dab-14d8-4e71-8776-ef5185d9ee92",
     "showTitle": false,
     "title": ""
    }
   },
   "outputs": [
    {
     "output_type": "stream",
     "name": "stdout",
     "output_type": "stream",
     "text": [
      "+-------------------+--------+----------------+\n|            country|  sports|sum(total_medal)|\n+-------------------+--------+----------------+\n|            Croatia|Swimming|               1|\n|          Australia|Swimming|             163|\n|              Japan|Swimming|              43|\n|            Denmark|Swimming|               1|\n|           Slovenia|Swimming|               1|\n|        South Korea|Swimming|               4|\n|          Lithuania|Swimming|               1|\n|Trinidad and Tobago|Swimming|               1|\n|            Romania|Swimming|               6|\n|           Slovakia|Swimming|               2|\n|             France|Swimming|              39|\n|             Sweden|Swimming|               9|\n|            Hungary|Swimming|               9|\n|              Italy|Swimming|              16|\n|             Norway|Swimming|               2|\n|         Costa Rica|Swimming|               2|\n|          Argentina|Swimming|               1|\n|             Brazil|Swimming|               8|\n|      Great Britain|Swimming|              11|\n|           Zimbabwe|Swimming|               7|\n+-------------------+--------+----------------+\nonly showing top 20 rows\n\n+-------------+--------+----------------+\n|      country|  sports|sum(total_medal)|\n+-------------+--------+----------------+\n|       Canada|Skeleton|               4|\n|       Russia|Skeleton|               1|\n|United States|Skeleton|               3|\n|      Germany|Skeleton|               2|\n|       Latvia|Skeleton|               1|\n|      Austria|Skeleton|               1|\n|Great Britain|Skeleton|               3|\n|  Switzerland|Skeleton|               3|\n+-------------+--------+----------------+\n\n"
     ]
    }
   ],
   "source": [
    "df.groupBy('country','sports').agg(sum('total_medal')).filter(df.sports == 'Swimming').show()\n",
    "\n",
    "df.groupBy('country','sports').agg(sum('total_medal')).filter(df.sports == 'Skeleton').show()"
   ]
  },
  {
   "cell_type": "markdown",
   "metadata": {
    "application/vnd.databricks.v1+cell": {
     "cellMetadata": {},
     "inputWidgets": {},
     "nuid": "3b481195-8606-4c7e-835f-329e89ce199f",
     "showTitle": false,
     "title": ""
    }
   },
   "source": [
    "To find the number of medals US won yearly."
   ]
  },
  {
   "cell_type": "code",
   "execution_count": 0,
   "metadata": {
    "application/vnd.databricks.v1+cell": {
     "cellMetadata": {
      "byteLimit": 2048000,
      "rowLimit": 10000
     },
     "inputWidgets": {},
     "nuid": "788623ce-b06c-4118-852b-01bac481f59b",
     "showTitle": false,
     "title": ""
    }
   },
   "outputs": [
    {
     "output_type": "stream",
     "name": "stdout",
     "output_type": "stream",
     "text": [
      "+----+-------------+----------------+\n|year|      country|sum(total_medal)|\n+----+-------------+----------------+\n|2000|United States|             243|\n|2002|United States|              84|\n|2004|United States|             265|\n|2006|United States|              52|\n|2008|United States|             317|\n|2010|United States|              97|\n|2012|United States|             254|\n+----+-------------+----------------+\n\n"
     ]
    }
   ],
   "source": [
    "df.groupBy('year','country').agg(sum('total_medal')).filter(df.country == 'United States').orderBy('year').show()"
   ]
  },
  {
   "cell_type": "markdown",
   "metadata": {
    "application/vnd.databricks.v1+cell": {
     "cellMetadata": {},
     "inputWidgets": {},
     "nuid": "d9e9dd1d-2804-49df-b944-c3bedb47a374",
     "showTitle": false,
     "title": ""
    }
   },
   "source": [
    "To find out the total number of medals won by each country."
   ]
  },
  {
   "cell_type": "code",
   "execution_count": 0,
   "metadata": {
    "application/vnd.databricks.v1+cell": {
     "cellMetadata": {
      "byteLimit": 2048000,
      "rowLimit": 10000
     },
     "inputWidgets": {},
     "nuid": "ec1722b0-b52d-4b77-811a-e8d60cebb97c",
     "showTitle": false,
     "title": ""
    }
   },
   "outputs": [
    {
     "output_type": "stream",
     "name": "stdout",
     "output_type": "stream",
     "text": [
      "+--------------+----------------+\n|       country|sum(total_medal)|\n+--------------+----------------+\n|        Russia|             768|\n|      Paraguay|              17|\n|Chinese Taipei|              20|\n|        Sweden|             181|\n|       Eritrea|               1|\n|     Singapore|               7|\n|      Malaysia|               3|\n|        Turkey|              28|\n|       Germany|             629|\n|   Afghanistan|               2|\n|         Sudan|               1|\n|        France|             318|\n|        Greece|              59|\n|     Sri Lanka|               1|\n|       Algeria|               8|\n|          Togo|               1|\n|      Slovakia|              35|\n|     Argentina|             139|\n|       Belgium|              18|\n| Great Britain|             322|\n+--------------+----------------+\nonly showing top 20 rows\n\n"
     ]
    }
   ],
   "source": [
    "df.groupBy('country').agg(sum('total_medal')).show()"
   ]
  },
  {
   "cell_type": "markdown",
   "metadata": {
    "application/vnd.databricks.v1+cell": {
     "cellMetadata": {},
     "inputWidgets": {},
     "nuid": "e68b51bc-b004-4159-8122-50d56cc4d8b0",
     "showTitle": false,
     "title": ""
    }
   },
   "source": [
    "To check for the oldest athlete in the Olympics and country he\\she belongs."
   ]
  },
  {
   "cell_type": "code",
   "execution_count": 0,
   "metadata": {
    "application/vnd.databricks.v1+cell": {
     "cellMetadata": {
      "byteLimit": 2048000,
      "rowLimit": 10000
     },
     "inputWidgets": {},
     "nuid": "b189a051-2097-4f15-9b1d-9b97f93f2310",
     "showTitle": false,
     "title": ""
    }
   },
   "outputs": [
    {
     "output_type": "stream",
     "name": "stdout",
     "output_type": "stream",
     "text": [
      "+--------------------+---+-------------+\n|                name|age|      country|\n+--------------------+---+-------------+\n|          Ian Millar| 61|       Canada|\n|           Mark Todd| 56|  New Zealand|\n|            Mac Cone| 55|       Canada|\n|        Nick Skelton| 54|Great Britain|\n|       Peter Charles| 52|Great Britain|\n|Lesley Thompson-W...| 52|       Canada|\n|       Peter Thomsen| 51|      Germany|\n|   Mary Thomson-King| 51|Great Britain|\n|       Ilario Di Buò| 51|        Italy|\n|    Andrew Nicholson| 50|  New Zealand|\n|        Jean Teulère| 50|       France|\n|     Debbie McDonald| 49|United States|\n|     Rajmond Debevec| 49|     Slovenia|\n|        Will Simpson| 49|United States|\n|         Russ Howard| 49|       Canada|\n|        Robert Dover| 48|United States|\n|       Kevin Burnham| 47|United States|\n|     Harald Stenvaag| 47|       Norway|\n|       Peter Thomsen| 47|      Germany|\n|   Mary Thomson-King| 47|Great Britain|\n+--------------------+---+-------------+\nonly showing top 20 rows\n\n"
     ]
    }
   ],
   "source": [
    "df.select('name', 'age', 'country').sort('age', ascending = [False]).show()"
   ]
  },
  {
   "cell_type": "code",
   "execution_count": 0,
   "metadata": {
    "application/vnd.databricks.v1+cell": {
     "cellMetadata": {
      "byteLimit": 2048000,
      "rowLimit": 10000
     },
     "inputWidgets": {},
     "nuid": "b03e6fa7-cb6a-48a1-866f-71783856e687",
     "showTitle": false,
     "title": ""
    }
   },
   "outputs": [
    {
     "output_type": "stream",
     "name": "stdout",
     "output_type": "stream",
     "text": [
      "+----------+---+-------+\n|      name|age|country|\n+----------+---+-------+\n|Ian Millar| 61| Canada|\n+----------+---+-------+\nonly showing top 1 row\n\n"
     ]
    }
   ],
   "source": [
    "df.select('name', 'age', 'country').sort(df.age.desc()).show(1)"
   ]
  }
 ],
 "metadata": {
  "application/vnd.databricks.v1+notebook": {
   "dashboards": [],
   "language": "python",
   "notebookMetadata": {
    "pythonIndentUnit": 4
   },
   "notebookName": "Olympics Data Analysis",
   "widgets": {}
  }
 },
 "nbformat": 4,
 "nbformat_minor": 0
}
